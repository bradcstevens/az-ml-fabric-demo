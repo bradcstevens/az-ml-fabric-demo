{
  "cells": [
    {
      "cell_type": "markdown",
      "metadata": {},
      "source": [
        "# Data Preparation Notebook\n",
        "\n",
        "This notebook demonstrates data preparation workflows for the Azure ML Fabric Demo predictive analytics MVP.\n",
        "\n",
        "## Objectives\n",
        "- Load and explore synthetic datasets\n",
        "- Perform data quality validation\n",
        "- Prepare data for machine learning models\n",
        "- Create feature engineering pipelines"
      ]
    },
    {
      "cell_type": "code",
      "execution_count": null,
      "metadata": {},
      "outputs": [],
      "source": [
        "# Import required libraries\n",
        "import pandas as pd\n",
        "import numpy as np\n",
        "import matplotlib.pyplot as plt\n",
        "import seaborn as sns\n",
        "import json\n",
        "from datetime import datetime, timedelta\n",
        "import warnings\n",
        "warnings.filterwarnings('ignore')\n",
        "\n",
        "# Configure display options\n",
        "pd.set_option('display.max_columns', None)\n",
        "plt.style.use('seaborn-v0_8')\n",
        "sns.set_palette('husl')"
      ]
    },
    {
      "cell_type": "markdown",
      "metadata": {},
      "source": [
        "## 1. Load Synthetic Datasets"
      ]
    },
    {
      "cell_type": "code",
      "execution_count": null,
      "metadata": {},
      "outputs": [],
      "source": [
        "# Load manufacturing data\n",
        "with open('../data/synthetic/manufacturing_data.json', 'r') as f:\n",
        "    manufacturing_data = json.load(f)\n",
        "    \n",
        "manufacturing_df = pd.DataFrame(manufacturing_data)\n",
        "manufacturing_df['timestamp'] = pd.to_datetime(manufacturing_df['timestamp'])\n",
        "\n",
        "print(f\"Manufacturing Data Shape: {manufacturing_df.shape}\")\n",
        "print(f\"Date Range: {manufacturing_df['timestamp'].min()} to {manufacturing_df['timestamp'].max()}\")\n",
        "manufacturing_df.head()"
      ]
    },
    {
      "cell_type": "code",
      "execution_count": null,
      "metadata": {},
      "outputs": [],
      "source": [
        "# Load time-series seasonal data\n",
        "with open('../data/synthetic/timeseries_seasonal.json', 'r') as f:\n",
        "    timeseries_data = json.load(f)\n",
        "    \n",
        "timeseries_df = pd.DataFrame(timeseries_data)\n",
        "timeseries_df['date'] = pd.to_datetime(timeseries_df['date'])\n",
        "\n",
        "print(f\"Time-series Data Shape: {timeseries_df.shape}\")\n",
        "print(f\"Date Range: {timeseries_df['date'].min()} to {timeseries_df['date'].max()}\")\n",
        "timeseries_df.head()"
      ]
    },
    {
      "cell_type": "code",
      "execution_count": null,
      "metadata": {},
      "outputs": [],
      "source": [
        "# Load equipment telemetry data\n",
        "with open('../data/synthetic/equipment_telemetry.json', 'r') as f:\n",
        "    telemetry_data = json.load(f)\n",
        "    \n",
        "telemetry_df = pd.DataFrame(telemetry_data)\n",
        "telemetry_df['timestamp'] = pd.to_datetime(telemetry_df['timestamp'])\n",
        "\n",
        "print(f\"Telemetry Data Shape: {telemetry_df.shape}\")\n",
        "print(f\"Unique Equipment: {telemetry_df['equipment_id'].nunique()}\")\n",
        "print(f\"Equipment Types: {telemetry_df['equipment_id'].unique()}\")\n",
        "telemetry_df.head()"
      ]
    },
    {
      "cell_type": "markdown",
      "metadata": {},
      "source": [
        "## 2. Data Quality Validation"
      ]
    },
    {
      "cell_type": "code",
      "execution_count": null,
      "metadata": {},
      "outputs": [],
      "source": [
        "# Manufacturing data quality checks\n",
        "print(\"Manufacturing Data Quality Report:\")\n",
        "print(f\"Missing values:\\n{manufacturing_df.isnull().sum()}\")\n",
        "print(f\"\\nOutput quantity stats:\\n{manufacturing_df['output_quantity'].describe()}\")\n",
        "print(f\"\\nDefect rate stats:\\n{manufacturing_df['defect_rate'].describe()}\")\n",
        "print(f\"\\nMachine efficiency stats:\\n{manufacturing_df['machine_efficiency'].describe()}\")"
      ]
    },
    {
      "cell_type": "code",
      "execution_count": null,
      "metadata": {},
      "outputs": [],
      "source": [
        "# Time-series seasonal pattern validation\n",
        "print(\"Time-series Seasonal Pattern Analysis:\")\n",
        "seasonal_range = timeseries_df['seasonal_component'].max() - timeseries_df['seasonal_component'].min()\n",
        "print(f\"Seasonal component range: {seasonal_range:.2f}\")\n",
        "print(f\"Has clear seasonal pattern: {seasonal_range > 10}\")\n",
        "\n",
        "# Plot seasonal pattern\n",
        "plt.figure(figsize=(12, 6))\n",
        "plt.subplot(1, 2, 1)\n",
        "plt.plot(timeseries_df['date'][:100], timeseries_df['value'][:100])\n",
        "plt.title('Time-series Values (First 100 days)')\n",
        "plt.xticks(rotation=45)\n",
        "\n",
        "plt.subplot(1, 2, 2)\n",
        "plt.plot(timeseries_df['day_of_year'], timeseries_df['seasonal_component'], alpha=0.6)\n",
        "plt.title('Seasonal Component by Day of Year')\n",
        "plt.xlabel('Day of Year')\n",
        "plt.ylabel('Seasonal Component')\n",
        "\n",
        "plt.tight_layout()\n",
        "plt.show()"
      ]
    },
    {
      "cell_type": "markdown",
      "metadata": {},
      "source": [
        "## 3. Feature Engineering"
      ]
    },
    {
      "cell_type": "code",
      "execution_count": null,
      "metadata": {},
      "outputs": [],
      "source": [
        "# Create derived features for manufacturing data\n",
        "manufacturing_df['hour'] = manufacturing_df['timestamp'].dt.hour\n",
        "manufacturing_df['day_of_week'] = manufacturing_df['timestamp'].dt.dayofweek\n",
        "manufacturing_df['efficiency_category'] = pd.cut(\n",
        "    manufacturing_df['machine_efficiency'], \n",
        "    bins=[0, 0.85, 0.95, 1.0], \n",
        "    labels=['Low', 'Medium', 'High']\n",
        ")\n",
        "\n",
        "print(\"Manufacturing Features Created:\")\n",
        "print(f\"Efficiency categories: {manufacturing_df['efficiency_category'].value_counts()}\")"
      ]
    },
    {
      "cell_type": "code",
      "execution_count": null,
      "metadata": {},
      "outputs": [],
      "source": [
        "# Equipment telemetry anomaly scoring\n",
        "def calculate_anomaly_score(row):\n",
        "    \"\"\"Simple anomaly scoring based on threshold deviations\"\"\"\n",
        "    score = 0\n",
        "    if row['temperature'] > 85: score += 1\n",
        "    if row['vibration'] > 3: score += 1\n",
        "    if row['pressure'] < 8 or row['pressure'] > 30: score += 1\n",
        "    return score\n",
        "\n",
        "telemetry_df['anomaly_score'] = telemetry_df.apply(calculate_anomaly_score, axis=1)\n",
        "telemetry_df['is_anomalous'] = telemetry_df['anomaly_score'] > 0\n",
        "\n",
        "print(f\"Equipment Anomaly Detection Results:\")\n",
        "print(f\"Anomalous readings: {telemetry_df['is_anomalous'].sum()}\")\n",
        "print(f\"Normal readings: {(~telemetry_df['is_anomalous']).sum()}\")"
      ]
    },
    {
      "cell_type": "markdown",
      "metadata": {},
      "source": [
        "## 4. Data Export for ML Pipeline"
      ]
    },
    {
      "cell_type": "code",
      "execution_count": null,
      "metadata": {},
      "outputs": [],
      "source": [
        "# Prepare datasets for machine learning\n",
        "print(\"Preparing data for ML pipeline...\")\n",
        "\n",
        "# Save processed datasets\n",
        "manufacturing_df.to_csv('../data/processed/manufacturing_processed.csv', index=False)\n",
        "timeseries_df.to_csv('../data/processed/timeseries_processed.csv', index=False)\n",
        "telemetry_df.to_csv('../data/processed/telemetry_processed.csv', index=False)\n",
        "\n",
        "print(\"Data preparation complete!\")\n",
        "print(f\"Processed files saved to data/processed/ directory\")"
      ]
    }
  ],
  "metadata": {
    "kernelspec": {
      "display_name": "Python 3",
      "language": "python",
      "name": "python3"
    },
    "language_info": {
      "codemirror_mode": {
        "name": "ipython",
        "version": 3
      },
      "file_extension": ".py",
      "mimetype": "text/x-python",
      "name": "python",
      "nbconvert_exporter": "python",
      "pygments_lexer": "ipython3",
      "version": "3.8.5"
    }
  },
  "nbformat": 4,
  "nbformat_minor": 4
}